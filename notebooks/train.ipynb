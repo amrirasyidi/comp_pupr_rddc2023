{
 "cells": [
  {
   "cell_type": "markdown",
   "metadata": {},
   "source": [
    "# Setup"
   ]
  },
  {
   "cell_type": "code",
   "execution_count": 1,
   "metadata": {},
   "outputs": [],
   "source": [
    "import os\n",
    "from pathlib import Path\n",
    "\n",
    "from PIL import Image\n",
    "from ultralytics import YOLO\n",
    "\n",
    "import matplotlib.pyplot as plt\n",
    "import cv2"
   ]
  },
  {
   "cell_type": "code",
   "execution_count": 37,
   "metadata": {},
   "outputs": [],
   "source": [
    "root_dir = Path(os.getcwd()).parent\n",
    "\n",
    "data_dir = root_dir/'data'\n",
    "processed_data_dir = data_dir/'1_processed'\n",
    "prediction_dir = data_dir/'2_predictions'\n",
    "yaml_dir = processed_data_dir/'custom_data.yaml'\n",
    "\n",
    "runs_dir = root_dir/'runs'"
   ]
  },
  {
   "cell_type": "markdown",
   "metadata": {},
   "source": [
    "# Training"
   ]
  },
  {
   "cell_type": "code",
   "execution_count": 16,
   "metadata": {},
   "outputs": [],
   "source": [
    "train_project = 'custom_runs' # custom run directory\n",
    "data_version = \"3.0\" # for custom run name\n",
    "\n",
    "base_model = \"yolov8n.pt\"\n",
    "base_model_size = base_model.split('.')[0][-1]\n",
    "\n",
    "model_start = 'pretrained'\n",
    "if model_start == 'pretrained':\n",
    "    pretrained_flag = True\n",
    "else:\n",
    "    pretrained_flag = False"
   ]
  },
  {
   "cell_type": "code",
   "execution_count": 25,
   "metadata": {},
   "outputs": [],
   "source": [
    "# create custom run directory\n",
    "custom_project_dir = root_dir / train_project\n",
    "if not os.path.exists(custom_project_dir):\n",
    "    os.makedirs(custom_project_dir)\n",
    "\n",
    "# get the list of run\n",
    "runs_list = os.listdir(custom_project_dir)\n",
    "\n",
    "# create custom run name\n",
    "if not runs_list:\n",
    "    train_name = f\"0_{data_version}_{model_start}_{base_model_size}\"\n",
    "else:\n",
    "    last_run = max([int(order.split('_')[0]) for order in runs_list])\n",
    "    new_run = last_run + 1\n",
    "    train_name = f\"{new_run}_{data_version}_{model_start}_{base_model_size}\""
   ]
  },
  {
   "cell_type": "code",
   "execution_count": 10,
   "metadata": {},
   "outputs": [
    {
     "name": "stderr",
     "output_type": "stream",
     "text": [
      "Downloading https://github.com/ultralytics/assets/releases/download/v0.0.0/yolov8n.pt to 'yolov8n.pt'...\n",
      "100%|██████████| 6.23M/6.23M [00:01<00:00, 3.97MB/s]\n",
      "New https://pypi.org/project/ultralytics/8.0.203 available  Update with 'pip install -U ultralytics'\n",
      "Ultralytics YOLOv8.0.200  Python-3.9.18 torch-2.0.1+cu118 CUDA:0 (NVIDIA GeForce RTX 3060 Laptop GPU, 6144MiB)\n",
      "\u001b[34m\u001b[1mengine\\trainer: \u001b[0mtask=detect, mode=train, model=yolov8n.pt, data=d:\\0_amri_local\\14_pupr_roaddamagedetection\\yolov8_custom\\data\\1_processed\\custom_data.yaml, epochs=3, patience=10, batch=8, imgsz=640, save=True, save_period=-1, cache=False, device=None, workers=8, project=d:\\0_amri_local\\14_pupr_roaddamagedetection\\yolov8_custom\\custom_runs, name=0_idn_jpn_usa_addit_pretrained_n, exist_ok=False, pretrained=True, optimizer=auto, verbose=True, seed=0, deterministic=True, single_cls=False, rect=False, cos_lr=False, close_mosaic=10, resume=False, amp=True, fraction=1.0, profile=False, freeze=None, overlap_mask=True, mask_ratio=4, dropout=0.0, val=True, split=val, save_json=False, save_hybrid=False, conf=None, iou=0.7, max_det=300, half=False, dnn=False, plots=True, source=None, show=False, save_txt=False, save_conf=False, save_crop=False, show_labels=True, show_conf=True, vid_stride=1, stream_buffer=False, line_width=None, visualize=False, augment=False, agnostic_nms=False, classes=None, retina_masks=False, boxes=True, format=torchscript, keras=False, optimize=False, int8=False, dynamic=False, simplify=False, opset=None, workspace=4, nms=False, lr0=0.01, lrf=0.01, momentum=0.937, weight_decay=0.0005, warmup_epochs=3.0, warmup_momentum=0.8, warmup_bias_lr=0.1, box=7.5, cls=0.5, dfl=1.5, pose=12.0, kobj=1.0, label_smoothing=0.0, nbs=64, hsv_h=0.015, hsv_s=0.7, hsv_v=0.4, degrees=0.0, translate=0.1, scale=0.5, shear=0.0, perspective=0.0, flipud=0.0, fliplr=0.5, mosaic=1.0, mixup=0.0, copy_paste=0.0, cfg=None, tracker=botsort.yaml, save_dir=d:\\0_amri_local\\14_pupr_roaddamagedetection\\yolov8_custom\\custom_runs\\0_idn_jpn_usa_addit_pretrained_n\n",
      "Overriding model.yaml nc=80 with nc=4\n",
      "\n",
      "                   from  n    params  module                                       arguments                     \n",
      "  0                  -1  1       464  ultralytics.nn.modules.conv.Conv             [3, 16, 3, 2]                 \n",
      "  1                  -1  1      4672  ultralytics.nn.modules.conv.Conv             [16, 32, 3, 2]                \n",
      "  2                  -1  1      7360  ultralytics.nn.modules.block.C2f             [32, 32, 1, True]             \n",
      "  3                  -1  1     18560  ultralytics.nn.modules.conv.Conv             [32, 64, 3, 2]                \n",
      "  4                  -1  2     49664  ultralytics.nn.modules.block.C2f             [64, 64, 2, True]             \n",
      "  5                  -1  1     73984  ultralytics.nn.modules.conv.Conv             [64, 128, 3, 2]               \n",
      "  6                  -1  2    197632  ultralytics.nn.modules.block.C2f             [128, 128, 2, True]           \n",
      "  7                  -1  1    295424  ultralytics.nn.modules.conv.Conv             [128, 256, 3, 2]              \n",
      "  8                  -1  1    460288  ultralytics.nn.modules.block.C2f             [256, 256, 1, True]           \n",
      "  9                  -1  1    164608  ultralytics.nn.modules.block.SPPF            [256, 256, 5]                 \n",
      " 10                  -1  1         0  torch.nn.modules.upsampling.Upsample         [None, 2, 'nearest']          \n",
      " 11             [-1, 6]  1         0  ultralytics.nn.modules.conv.Concat           [1]                           \n",
      " 12                  -1  1    148224  ultralytics.nn.modules.block.C2f             [384, 128, 1]                 \n",
      " 13                  -1  1         0  torch.nn.modules.upsampling.Upsample         [None, 2, 'nearest']          \n",
      " 14             [-1, 4]  1         0  ultralytics.nn.modules.conv.Concat           [1]                           \n",
      " 15                  -1  1     37248  ultralytics.nn.modules.block.C2f             [192, 64, 1]                  \n",
      " 16                  -1  1     36992  ultralytics.nn.modules.conv.Conv             [64, 64, 3, 2]                \n",
      " 17            [-1, 12]  1         0  ultralytics.nn.modules.conv.Concat           [1]                           \n",
      " 18                  -1  1    123648  ultralytics.nn.modules.block.C2f             [192, 128, 1]                 \n",
      " 19                  -1  1    147712  ultralytics.nn.modules.conv.Conv             [128, 128, 3, 2]              \n",
      " 20             [-1, 9]  1         0  ultralytics.nn.modules.conv.Concat           [1]                           \n",
      " 21                  -1  1    493056  ultralytics.nn.modules.block.C2f             [384, 256, 1]                 \n",
      " 22        [15, 18, 21]  1    752092  ultralytics.nn.modules.head.Detect           [4, [64, 128, 256]]           \n",
      "Model summary: 225 layers, 3011628 parameters, 3011612 gradients, 8.2 GFLOPs\n",
      "\n",
      "Transferred 319/355 items from pretrained weights\n",
      "Freezing layer 'model.22.dfl.conv.weight'\n",
      "\u001b[34m\u001b[1mAMP: \u001b[0mrunning Automatic Mixed Precision (AMP) checks with YOLOv8n...\n",
      "\u001b[34m\u001b[1mAMP: \u001b[0mchecks passed \n",
      "\u001b[34m\u001b[1mtrain: \u001b[0mScanning D:\\0_amri_local\\14_pupr_roaddamagedetection\\yolov8_custom\\data\\1_processed\\train\\labels... 16117 images, 0 backgrounds, 0 corrupt: 100%|██████████| 16117/16117 [00:08<00:00, 2014.02it/s]\n",
      "\u001b[34m\u001b[1mtrain: \u001b[0mNew cache created: D:\\0_amri_local\\14_pupr_roaddamagedetection\\yolov8_custom\\data\\1_processed\\train\\labels.cache\n",
      "\u001b[34m\u001b[1mval: \u001b[0mScanning D:\\0_amri_local\\14_pupr_roaddamagedetection\\yolov8_custom\\data\\1_processed\\valid\\labels... 4111 images, 0 backgrounds, 0 corrupt: 100%|██████████| 4111/4111 [00:02<00:00, 1890.92it/s]\n",
      "\u001b[34m\u001b[1mval: \u001b[0mNew cache created: D:\\0_amri_local\\14_pupr_roaddamagedetection\\yolov8_custom\\data\\1_processed\\valid\\labels.cache\n",
      "Plotting labels to d:\\0_amri_local\\14_pupr_roaddamagedetection\\yolov8_custom\\custom_runs\\0_idn_jpn_usa_addit_pretrained_n\\labels.jpg... \n",
      "\u001b[34m\u001b[1moptimizer:\u001b[0m 'optimizer=auto' found, ignoring 'lr0=0.01' and 'momentum=0.937' and determining best 'optimizer', 'lr0' and 'momentum' automatically... \n",
      "\u001b[34m\u001b[1moptimizer:\u001b[0m AdamW(lr=0.00125, momentum=0.9) with parameter groups 57 weight(decay=0.0), 64 weight(decay=0.0005), 63 bias(decay=0.0)\n",
      "Image sizes 640 train, 640 val\n",
      "Using 8 dataloader workers\n",
      "Logging results to \u001b[1md:\\0_amri_local\\14_pupr_roaddamagedetection\\yolov8_custom\\custom_runs\\0_idn_jpn_usa_addit_pretrained_n\u001b[0m\n",
      "Starting training for 3 epochs...\n",
      "\n",
      "      Epoch    GPU_mem   box_loss   cls_loss   dfl_loss  Instances       Size\n",
      "        1/3      1.54G      2.093      3.116      1.834         12        640: 100%|██████████| 2015/2015 [04:11<00:00,  8.02it/s]\n",
      "                 Class     Images  Instances      Box(P          R      mAP50  mAP50-95): 100%|██████████| 257/257 [00:39<00:00,  6.44it/s]\n",
      "                   all       4111       8921      0.282      0.269      0.198     0.0759\n",
      "\n",
      "      Epoch    GPU_mem   box_loss   cls_loss   dfl_loss  Instances       Size\n",
      "        2/3      1.57G      1.978      2.477      1.746         14        640: 100%|██████████| 2015/2015 [03:44<00:00,  8.99it/s]\n",
      "                 Class     Images  Instances      Box(P          R      mAP50  mAP50-95): 100%|██████████| 257/257 [00:36<00:00,  7.06it/s]\n",
      "                   all       4111       8921      0.342      0.315      0.256      0.106\n",
      "\n",
      "      Epoch    GPU_mem   box_loss   cls_loss   dfl_loss  Instances       Size\n",
      "        3/3      1.57G        1.9       2.25      1.673         14        640: 100%|██████████| 2015/2015 [03:36<00:00,  9.30it/s]\n",
      "                 Class     Images  Instances      Box(P          R      mAP50  mAP50-95): 100%|██████████| 257/257 [00:38<00:00,  6.64it/s]\n",
      "                   all       4111       8921        0.4      0.389      0.352      0.156\n",
      "\n",
      "3 epochs completed in 0.225 hours.\n",
      "Optimizer stripped from d:\\0_amri_local\\14_pupr_roaddamagedetection\\yolov8_custom\\custom_runs\\0_idn_jpn_usa_addit_pretrained_n\\weights\\last.pt, 6.2MB\n",
      "Optimizer stripped from d:\\0_amri_local\\14_pupr_roaddamagedetection\\yolov8_custom\\custom_runs\\0_idn_jpn_usa_addit_pretrained_n\\weights\\best.pt, 6.2MB\n",
      "\n",
      "Validating d:\\0_amri_local\\14_pupr_roaddamagedetection\\yolov8_custom\\custom_runs\\0_idn_jpn_usa_addit_pretrained_n\\weights\\best.pt...\n",
      "Ultralytics YOLOv8.0.200  Python-3.9.18 torch-2.0.1+cu118 CUDA:0 (NVIDIA GeForce RTX 3060 Laptop GPU, 6144MiB)\n",
      "Model summary (fused): 168 layers, 3006428 parameters, 0 gradients, 8.1 GFLOPs\n",
      "                 Class     Images  Instances      Box(P          R      mAP50  mAP50-95): 100%|██████████| 257/257 [00:39<00:00,  6.55it/s]\n",
      "                   all       4111       8921      0.399      0.388      0.352      0.156\n",
      "       retak_memanjang       4111       2968      0.391       0.52      0.437      0.213\n",
      "       retak_melintang       4111       1836      0.427      0.248      0.267      0.103\n",
      "           retak_buaya       4111       2210       0.39      0.476      0.417      0.193\n",
      "               pothole       4111       1907      0.386      0.306      0.288      0.114\n",
      "Speed: 0.3ms preprocess, 2.0ms inference, 0.0ms loss, 1.4ms postprocess per image\n",
      "Results saved to \u001b[1md:\\0_amri_local\\14_pupr_roaddamagedetection\\yolov8_custom\\custom_runs\\0_idn_jpn_usa_addit_pretrained_n\u001b[0m\n"
     ]
    }
   ],
   "source": [
    "# Load a model\n",
    "model = YOLO(\n",
    "    base_model\n",
    "    )\n",
    "\n",
    "# train the model\n",
    "results = model.train(\n",
    "    data=yaml_dir,\n",
    "    epochs=3,\n",
    "    batch=8,\n",
    "    patience=10,\n",
    "    project=custom_project_dir,\n",
    "    name=train_name,\n",
    "    pretrained=pretrained_flag\n",
    ")"
   ]
  },
  {
   "cell_type": "markdown",
   "metadata": {},
   "source": [
    "# Inferencing"
   ]
  },
  {
   "cell_type": "markdown",
   "metadata": {},
   "source": [
    "## Image"
   ]
  },
  {
   "cell_type": "code",
   "execution_count": 11,
   "metadata": {},
   "outputs": [],
   "source": [
    "# Load a pretrained YOLOv8n model\n",
    "best_model = YOLO(custom_project_dir / train_name / \"weights\" / \"best.pt\")"
   ]
  },
  {
   "cell_type": "code",
   "execution_count": 35,
   "metadata": {},
   "outputs": [],
   "source": [
    "pred_data = [str(prediction_dir / \"original\" / file) for file in os.listdir(prediction_dir / \"original\")]\n",
    "\n",
    "pred_location = prediction_dir / train_name\n",
    "if not os.path.exists(pred_location):\n",
    "    os.makedirs(pred_location)"
   ]
  },
  {
   "cell_type": "code",
   "execution_count": 30,
   "metadata": {},
   "outputs": [
    {
     "name": "stderr",
     "output_type": "stream",
     "text": [
      "\n",
      "0: 640x640 1 retak_buaya, 1: 640x640 2 retak_memanjangs, 2: 640x640 3 retak_memanjangs, 3: 640x640 (no detections), 4: 640x640 1 retak_buaya, 5: 640x640 (no detections), 6: 640x640 (no detections), 7: 640x640 3 retak_buayas, 8: 640x640 (no detections), 9: 640x640 (no detections), 10: 640x640 (no detections), 11: 640x640 (no detections), 12: 640x640 (no detections), 13: 640x640 4 retak_memanjangs, 14: 640x640 2 retak_memanjangs, 15: 640x640 (no detections), 16: 640x640 (no detections), 290.2ms\n",
      "Speed: 4.5ms preprocess, 17.1ms inference, 1.3ms postprocess per image at shape (1, 3, 640, 640)\n"
     ]
    }
   ],
   "source": [
    "# Run inference on an image\n",
    "results = best_model(\n",
    "    source = pred_data\n",
    ")  # list of 1 Results object"
   ]
  },
  {
   "cell_type": "code",
   "execution_count": 34,
   "metadata": {},
   "outputs": [],
   "source": [
    "for r in results:\n",
    "    im_array = r.plot()  # plot a BGR numpy array of predictions\n",
    "    im = Image.fromarray(im_array[..., ::-1])  # RGB PIL image\n",
    "    # im.show()  # show image\n",
    "    im.save(pred_location / ('pred_'+Path(r.path).name))"
   ]
  },
  {
   "cell_type": "markdown",
   "metadata": {},
   "source": [
    "## Video"
   ]
  },
  {
   "cell_type": "code",
   "execution_count": null,
   "metadata": {},
   "outputs": [],
   "source": [
    "video_path = r\"D:\\0_amri_local\\14_pupr_roaddamagedetection\\data\\PUPR\\Banten\\21017 R1.mp4\"\n",
    "video_path_out = r\"D:\\0_amri_local\\14_pupr_roaddamagedetection\\yolov8_custom\\notebooks\\out.mp4\"\n",
    "\n",
    "cap = cv2.VideoCapture(video_path)\n",
    "ret, frame = cap.read()\n",
    "H, W, _ = frame.shape\n",
    "out = cv2.VideoWriter(video_path_out, cv2.VideoWriter_fourcc(*'MP4V'), int(cap.get(cv2.CAP_PROP_FPS)), (W, H))"
   ]
  },
  {
   "cell_type": "code",
   "execution_count": null,
   "metadata": {},
   "outputs": [],
   "source": [
    "threshold = 0.5\n",
    "\n",
    "while ret:\n",
    "\n",
    "    results = best_model(frame)[0]\n",
    "\n",
    "    for result in results.boxes.data.tolist():\n",
    "        x1, y1, x2, y2, score, class_id = result\n",
    "\n",
    "        if score > threshold:\n",
    "            cv2.rectangle(frame, (int(x1), int(y1)), (int(x2), int(y2)), (0, 255, 0), 4)\n",
    "            cv2.putText(frame, results.names[int(class_id)].upper(), (int(x1), int(y1 - 10)),\n",
    "                        cv2.FONT_HERSHEY_SIMPLEX, 1.3, (0, 255, 0), 3, cv2.LINE_AA)\n",
    "\n",
    "    out.write(frame)\n",
    "    ret, frame = cap.read()\n",
    "\n",
    "cap.release()\n",
    "out.release()\n",
    "cv2.destroyAllWindows()"
   ]
  },
  {
   "cell_type": "markdown",
   "metadata": {},
   "source": [
    "# Placeholder"
   ]
  },
  {
   "cell_type": "code",
   "execution_count": null,
   "metadata": {},
   "outputs": [],
   "source": []
  }
 ],
 "metadata": {
  "kernelspec": {
   "display_name": "yolov8_custom",
   "language": "python",
   "name": "python3"
  },
  "language_info": {
   "codemirror_mode": {
    "name": "ipython",
    "version": 3
   },
   "file_extension": ".py",
   "mimetype": "text/x-python",
   "name": "python",
   "nbconvert_exporter": "python",
   "pygments_lexer": "ipython3",
   "version": "3.9.18"
  }
 },
 "nbformat": 4,
 "nbformat_minor": 2
}
